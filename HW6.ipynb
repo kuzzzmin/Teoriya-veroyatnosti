{
 "cells": [
  {
   "cell_type": "markdown",
   "id": "77d05628",
   "metadata": {},
   "source": [
    " \"Задача 1. Известно, что генеральная совокупность распределена нормально со средним квадратическим отклонением, равным 16.\\n\",\n",
    "    \"Найти доверительный интервал для оценки математического ожидания a с надежностью 0.95, если выборочная средняя M = 80, а объем выборки n = 256.\""
   ]
  },
  {
   "cell_type": "code",
   "execution_count": 5,
   "id": "1d46e6eb",
   "metadata": {},
   "outputs": [],
   "source": [
    "std_dev = 16\n",
    "m = 80\n",
    "n = 256\n",
    "confidence = 0.95"
   ]
  },
  {
   "cell_type": "code",
   "execution_count": 13,
   "id": "7ae085e2",
   "metadata": {},
   "outputs": [
    {
     "data": {
      "text/plain": [
       "(79.025, 80.975)"
      ]
     },
     "execution_count": 13,
     "metadata": {},
     "output_type": "execute_result"
    }
   ],
   "source": [
    "std_error = std_dev / (n ** 0.5)\n",
    "z_critical = (1 - (1 - confidence) / 2)\n",
    "confidence_interval = (m - z_critical * std_error, m + z_critical * std_error)\n",
    "confidence_intervaldata"
   ]
  },
  {
   "cell_type": "markdown",
   "id": "441cd0ec",
   "metadata": {},
   "source": [
    "\"Задача 2. В результате 10 независимых измерений некоторой величины X, выполненных с\n",
    "одинаковой точностью,\n",
    "получены опытные данные:\n",
    "6.9, 6.1, 6.2, 6.8, 7.5, 6.3, 6.4, 6.9, 6.7, 6.1\n",
    "Предполагая, что результаты измерений подчинены нормальному закону распределения\n",
    "вероятностей,\n",
    "оценить истинное значение величины X при помощи доверительного интервала,\n",
    "покрывающего это\n",
    "значение с доверительной вероятностью 0,95.\""
   ]
  },
  {
   "cell_type": "code",
   "execution_count": 16,
   "id": "18a18567",
   "metadata": {},
   "outputs": [],
   "source": [
    "import numpy as np\n",
    "from scipy.stats import t\n",
    "data = np.array([6.9, 6.1, 6.2, 6.8, 7.5, 6.3, 6.4, 6.9, 6.7, 6.1])"
   ]
  },
  {
   "cell_type": "code",
   "execution_count": 17,
   "id": "3d2c84e2",
   "metadata": {},
   "outputs": [],
   "source": [
    "mean_data = np.mean(data)\n",
    "std_data = np.std(data, ddof=1)\n",
    "sem_data = std_data / np.sqrt(len(data))"
   ]
  },
  {
   "cell_type": "code",
   "execution_count": 18,
   "id": "a2905373",
   "metadata": {},
   "outputs": [],
   "source": [
    "alpha = 0.05\n",
    "df = len(data) - 1\n",
    "t_critical = t.ppf(1 - alpha/2, df)"
   ]
  },
  {
   "cell_type": "code",
   "execution_count": 19,
   "id": "9d96a866",
   "metadata": {},
   "outputs": [
    {
     "data": {
      "text/plain": [
       "(6.267515851415713, 6.912484148584288)"
      ]
     },
     "execution_count": 19,
     "metadata": {},
     "output_type": "execute_result"
    }
   ],
   "source": [
    "margin_error = t_critical * sem_data\n",
    "confidence_interval = (mean_data - margin_error, mean_data + margin_error)\n",
    "confidence_interval"
   ]
  },
  {
   "cell_type": "markdown",
   "id": "8ca4fc4e",
   "metadata": {},
   "source": [
    "\"Задача 3. Рост дочерей 175, 167, 154, 174, 178, 148, 160, 167, 169, 170\n",
    "Рост матерей 178, 165, 165, 173, 168, 155, 160, 164, 178, 175\n",
    "\n",
    "Используя эти данные построить 95% доверительный интервал для разности среднего\n",
    "роста родителей и детей.\""
   ]
  },
  {
   "cell_type": "code",
   "execution_count": 20,
   "id": "1da9b035",
   "metadata": {},
   "outputs": [],
   "source": [
    "import numpy as np\n",
    "from scipy.stats import t\n",
    "data1 = np.array([175, 167, 154, 174, 178, 148, 160, 167, 169, 170])\n",
    "data2 = np.array([178, 165, 165, 173, 168, 155, 160, 164, 178, 175])\n",
    "alpha = 0.05"
   ]
  },
  {
   "cell_type": "code",
   "execution_count": 21,
   "id": "a7af52d8",
   "metadata": {},
   "outputs": [],
   "source": [
    "mean_diff = np.mean(data2) - np.mean(data1)\n",
    "std_diff = np.sqrt((np.var(data2, ddof=1) / len(data2)) + (np.var(data1, ddof=1) / len(data1)))"
   ]
  },
  {
   "cell_type": "code",
   "execution_count": 22,
   "id": "44436386",
   "metadata": {},
   "outputs": [],
   "source": [
    "df = len(data1) + len(data2) - 2\n",
    "t_critical = t.ppf(1 - alpha/2, df)"
   ]
  },
  {
   "cell_type": "code",
   "execution_count": 23,
   "id": "7c798e4b",
   "metadata": {},
   "outputs": [
    {
     "data": {
      "text/plain": [
       "(-6.268418034506846, 10.068418034506857)"
      ]
     },
     "execution_count": 23,
     "metadata": {},
     "output_type": "execute_result"
    }
   ],
   "source": [
    "margin_error = t_critical * std_diff\n",
    "confidence_interval = (mean_diff - margin_error, mean_diff + margin_error)\n",
    "confidence_interval"
   ]
  },
  {
   "cell_type": "code",
   "execution_count": null,
   "id": "cc34a696",
   "metadata": {},
   "outputs": [],
   "source": []
  }
 ],
 "metadata": {
  "kernelspec": {
   "display_name": "Python 3 (ipykernel)",
   "language": "python",
   "name": "python3"
  },
  "language_info": {
   "codemirror_mode": {
    "name": "ipython",
    "version": 3
   },
   "file_extension": ".py",
   "mimetype": "text/x-python",
   "name": "python",
   "nbconvert_exporter": "python",
   "pygments_lexer": "ipython3",
   "version": "3.11.1"
  }
 },
 "nbformat": 4,
 "nbformat_minor": 5
}
