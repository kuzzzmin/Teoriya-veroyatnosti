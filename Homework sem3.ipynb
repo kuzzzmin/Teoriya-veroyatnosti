{
 "cells": [
  {
   "cell_type": "markdown",
   "id": "f1921548",
   "metadata": {},
   "source": [
    "* Задача 1. Даны значения зарплат из выборки выпускников: 100, 80, 75, 77, 89, 33, 45, 25, 65, 17, 30, 24, 57, 55, 70, 75, 65, 84, 90, 150. Посчитать (желательно без использования статистических методов наподобие std, var, mean) среднее арифметическое, среднее квадратичное отклонение, смещенную и несмещенную оценки дисперсий для данной выборки."
   ]
  },
  {
   "cell_type": "code",
   "execution_count": 1,
   "id": "742e80ca",
   "metadata": {},
   "outputs": [],
   "source": [
    "import numpy as np\n",
    "li = [100, 80, 75, 77, 89, 33, 45, 25, 65, 17, 30, 24, 57, 55, 70, 75, 65, 84, 90, 150]"
   ]
  },
  {
   "cell_type": "markdown",
   "id": "d54afee3",
   "metadata": {},
   "source": [
    "Среднее арифметическое:"
   ]
  },
  {
   "cell_type": "code",
   "execution_count": 2,
   "id": "3da5a817",
   "metadata": {},
   "outputs": [],
   "source": [
    "arithmetic_mean = sum(li) / len(li)\n",
    "arithmetic_mean_np = np.mean(li)"
   ]
  },
  {
   "cell_type": "markdown",
   "id": "b8bf1975",
   "metadata": {},
   "source": [
    "Среднее квадратичное отклонение:"
   ]
  },
  {
   "cell_type": "code",
   "execution_count": 4,
   "id": "09aa3707",
   "metadata": {},
   "outputs": [],
   "source": [
    "variance = np.var(li)\n",
    "res = np.sqrt(variance)\n",
    "quadratic_mean_np = np.std(li)"
   ]
  },
  {
   "cell_type": "markdown",
   "id": "c53e2df6",
   "metadata": {},
   "source": [
    "Смещенная и несмещенная оценка дисперсий для данной выборки:"
   ]
  },
  {
   "cell_type": "code",
   "execution_count": 5,
   "id": "3d80cc04",
   "metadata": {},
   "outputs": [],
   "source": [
    "tmp = 0\n",
    "\n",
    "for item in li:\n",
    "    tmp += (item - arithmetic_mean) ** 2\n",
    "\n",
    "offset = tmp / (len(li) - 1)\n",
    "unbiased = tmp / len(li)\n",
    "offset_np = np.var(li)\n",
    "unbiased_np = np.var(li, ddof=1)"
   ]
  },
  {
   "cell_type": "markdown",
   "id": "de6ab175",
   "metadata": {},
   "source": [
    "* Задача 4. В университет на факультеты A и B поступило равное количество студентов, а на факультет C студентов поступило столько же, сколько на A и B вместе. Вероятность того, что студент факультета A сдаст первую сессию, равна 0.8. Для студента факультета B эта вероятность равна 0.7, а для студента факультета C - 0.9. Студент сдал первую сессию. Какова вероятность, что он учится: a). на факультете A б). на факультете B в). на факультете C?"
   ]
  },
  {
   "cell_type": "code",
   "execution_count": 6,
   "id": "8afc90c8",
   "metadata": {},
   "outputs": [],
   "source": [
    "p_1 = 0.8\n",
    "p_2 = 0.7\n",
    "p_3 = 0.9"
   ]
  },
  {
   "cell_type": "markdown",
   "id": "8ee34fd1",
   "metadata": {},
   "source": [
    "Вероятность учиться"
   ]
  },
  {
   "cell_type": "code",
   "execution_count": 7,
   "id": "1e52b975",
   "metadata": {},
   "outputs": [],
   "source": [
    "p_a_1 = 1/4\n",
    "p_a_2 = 1/4\n",
    "p_a_3 = 1/2"
   ]
  },
  {
   "cell_type": "markdown",
   "id": "f9ab0a1e",
   "metadata": {},
   "source": [
    "Вероятность учиться и сдать"
   ]
  },
  {
   "cell_type": "code",
   "execution_count": 8,
   "id": "9395754a",
   "metadata": {},
   "outputs": [
    {
     "data": {
      "text/plain": [
       "0.825"
      ]
     },
     "execution_count": 8,
     "metadata": {},
     "output_type": "execute_result"
    }
   ],
   "source": [
    "p_b = p_1 * p_a_1 + p_2 * p_a_2 + p_3 * p_a_3\n",
    "p_b"
   ]
  },
  {
   "cell_type": "markdown",
   "id": "a536f8a6",
   "metadata": {},
   "source": [
    "Вероятность для каждого факультета"
   ]
  },
  {
   "cell_type": "code",
   "execution_count": 9,
   "id": "41edd681",
   "metadata": {},
   "outputs": [
    {
     "data": {
      "text/plain": [
       "(0.24, 0.21, 0.55)"
      ]
     },
     "execution_count": 9,
     "metadata": {},
     "output_type": "execute_result"
    }
   ],
   "source": [
    "a = p_1 * p_a_1 / p_b\n",
    "b = p_2 * p_a_2 / p_b\n",
    "c = p_3 * p_a_3 / p_b\n",
    "\n",
    "round(a, 2), round(b, 2), round(c, 2)"
   ]
  }
 ],
 "metadata": {
  "kernelspec": {
   "display_name": "Python 3 (ipykernel)",
   "language": "python",
   "name": "python3"
  },
  "language_info": {
   "codemirror_mode": {
    "name": "ipython",
    "version": 3
   },
   "file_extension": ".py",
   "mimetype": "text/x-python",
   "name": "python",
   "nbconvert_exporter": "python",
   "pygments_lexer": "ipython3",
   "version": "3.11.1"
  }
 },
 "nbformat": 4,
 "nbformat_minor": 5
}
